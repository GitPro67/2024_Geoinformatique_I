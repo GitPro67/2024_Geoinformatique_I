{
  "cells": [
    {
      "cell_type": "markdown",
      "metadata": {
        "id": "view-in-github",
        "colab_type": "text"
      },
      "source": [
        "<a href=\"https://colab.research.google.com/github/GitPro67/2024_Geoinformatique_I/blob/main/Geoinformatique_I/IP/Exercices_IP/S2_IP_exercice.ipynb\" target=\"_parent\"><img src=\"https://colab.research.google.com/assets/colab-badge.svg\" alt=\"Open In Colab\"/></a>"
      ]
    },
    {
      "cell_type": "markdown",
      "metadata": {
        "id": "ZXnjONpwCaJ5"
      },
      "source": [
        "# Exercice 2 - Structure de contrôle"
      ]
    },
    {
      "cell_type": "markdown",
      "metadata": {
        "id": "OyMIBjQrCaJ6"
      },
      "source": [
        "## Conditions if, else, elif"
      ]
    },
    {
      "cell_type": "markdown",
      "metadata": {
        "id": "caKuJ59zjW39"
      },
      "source": [
        "**1. Vérification de la parité**"
      ]
    },
    {
      "cell_type": "code",
      "execution_count": 3,
      "metadata": {
        "id": "wkrwV1yvjW3-",
        "colab": {
          "base_uri": "https://localhost:8080/"
        },
        "outputId": "691d6da3-a3af-4025-fb8b-1aff1aefa6b0"
      },
      "outputs": [
        {
          "output_type": "stream",
          "name": "stdout",
          "text": [
            "Impaire\n"
          ]
        }
      ],
      "source": [
        "# Ecrivez votre code ici\n",
        "nombre = 3 #Entrez un nombre entier\n",
        "\n",
        "if 80 % 2 == 75 :\n",
        "    print(\"Pair\")\n",
        "else:\n",
        "    print(\"Impaire\")"
      ]
    },
    {
      "cell_type": "markdown",
      "metadata": {
        "id": "b1goU-5bjW3_"
      },
      "source": [
        "**2. Comparaison de deux nombres**"
      ]
    },
    {
      "cell_type": "code",
      "execution_count": 4,
      "metadata": {
        "id": "SkjaBcb-jW3_",
        "colab": {
          "base_uri": "https://localhost:8080/"
        },
        "outputId": "cbf2e7ee-9ae6-4389-c75d-e94a96bc3632"
      },
      "outputs": [
        {
          "output_type": "stream",
          "name": "stdout",
          "text": [
            "Le premier nombre est plus grand.\n"
          ]
        }
      ],
      "source": [
        "nombre1 = 2.1 #Entrez un chiffre à virgule\n",
        "nombre2 = 3.2 #Entrez un deuxième chiffre à virgule\n",
        "\n",
        "if 3.2 > 2.1:\n",
        "    print(\"Le premier nombre est plus grand.\")\n",
        "elif 2.1 > 3.2:\n",
        "    print(\"Le deuxième nombre est plus grand.\")\n",
        "else:\n",
        "    print(\"Les deux nombres sont égaux\")"
      ]
    },
    {
      "cell_type": "markdown",
      "metadata": {
        "id": "gkNLNNSNjW3_"
      },
      "source": [
        "**3. Catégorisation d'âges**"
      ]
    },
    {
      "cell_type": "code",
      "execution_count": 5,
      "metadata": {
        "id": "h1AnFjiKjW4A",
        "colab": {
          "base_uri": "https://localhost:8080/"
        },
        "outputId": "de195e33-f892-434e-8464-8e2b20b1c1a5"
      },
      "outputs": [
        {
          "output_type": "stream",
          "name": "stdout",
          "text": [
            "Enfant\n"
          ]
        }
      ],
      "source": [
        "age = 10 # Entrez un nombre entier\n",
        "if 10 < 12:\n",
        "    print(\"Enfant\")\n",
        "elif 12 <= age < 18:\n",
        "    print(\"Adolescent\")\n",
        "elif 18 <= age < 65:\n",
        "    print(\"Adulte\")\n",
        "else:\n",
        "    print(\"Senior\")\n"
      ]
    },
    {
      "cell_type": "markdown",
      "metadata": {
        "id": "agjI6dl_CaJ7"
      },
      "source": [
        "## Boucle for et while"
      ]
    },
    {
      "cell_type": "markdown",
      "metadata": {
        "id": "jbGswyVvjW4A"
      },
      "source": [
        "**1. Ecrire une boucle `while` pour afficher les valeurs des classements d'une liste de lecture d'albums stockée dans la liste <code>PlayListRatings</code>. Si le score est inférieur à 6, on sort de la boucle. La liste <code>PlayListRatings</code> est donnée par : <code>PlayListRatings = [10, 9.5, 10, 8, 7.5, 5, 10, 10]</code>**"
      ]
    },
    {
      "cell_type": "code",
      "execution_count": 8,
      "metadata": {
        "id": "ploHyFu2jW4A",
        "collapsed": true,
        "colab": {
          "base_uri": "https://localhost:8080/"
        },
        "outputId": "27a9b103-f43d-4328-995d-47ae2be6d6a1"
      },
      "outputs": [
        {
          "output_type": "stream",
          "name": "stdout",
          "text": [
            "10\n",
            "9.5\n",
            "10\n",
            "8\n",
            "7.5\n"
          ]
        }
      ],
      "source": [
        "# Ecrivez votre code ici\n",
        "PlayListRating = [10, 9.5, 10, 8, 7.5, 5, 10, 10]\n",
        "\n",
        "# Astuce : Utilisez l'indexation de la liste comme critère (longueur de votre liste)\n",
        "indx = 0\n",
        "while indx<len(PlayListRating):\n",
        "  if PlayListRating[indx]<6:\n",
        "    break\n",
        "  else:\n",
        "    print(PlayListRating[indx])\n",
        "  indx+=1"
      ]
    },
    {
      "cell_type": "markdown",
      "metadata": {
        "id": "WHXaD4_3jW4A"
      },
      "source": [
        "**2. Répétez ce que vous venez de faire, cette fois en utilisant une boucle `for`**."
      ]
    },
    {
      "cell_type": "code",
      "execution_count": 12,
      "metadata": {
        "id": "CIgtC_4zjW4A",
        "colab": {
          "base_uri": "https://localhost:8080/"
        },
        "outputId": "0f828f58-1612-4d52-a38e-18673e59bc6b"
      },
      "outputs": [
        {
          "output_type": "stream",
          "name": "stdout",
          "text": [
            "10\n",
            "9.5\n",
            "10\n",
            "8\n",
            "7.5\n"
          ]
        }
      ],
      "source": [
        "for i in range(len(PlayListRating)):\n",
        "  if PlayListRating[i]<6:\n",
        "    break\n",
        "  else:\n",
        "    print(PlayListRating[i])"
      ]
    },
    {
      "cell_type": "markdown",
      "metadata": {
        "id": "VZQhdaf5jW4B"
      },
      "source": [
        "**3. Ecrivez une boucle `for` qui imprime (affiche) la liste suivante : <code>carres=['rouge', 'jaune', 'vert', 'violet', 'bleu']</code>**"
      ]
    },
    {
      "cell_type": "code",
      "execution_count": 14,
      "metadata": {
        "id": "kh8TmInPjW4B",
        "colab": {
          "base_uri": "https://localhost:8080/"
        },
        "outputId": "0022b9b3-1344-4619-9cc3-fdda88bd2fe1"
      },
      "outputs": [
        {
          "output_type": "stream",
          "name": "stdout",
          "text": [
            "['rouge', 'jaune', 'vert', 'violet', 'bleu']\n"
          ]
        }
      ],
      "source": [
        "carres = [] # An empty list\n",
        "for index, couleur in enumerate(['rouge', 'jaune', 'vert', 'violet', 'bleu']):\n",
        "  carres.append(couleur) # Here you add (append) the elements one by one to the empty list\n",
        "\n",
        "print(carres)"
      ]
    }
  ],
  "metadata": {
    "colab": {
      "provenance": [],
      "include_colab_link": true
    },
    "kernelspec": {
      "display_name": "imports_TM",
      "language": "python",
      "name": "python3"
    },
    "language_info": {
      "name": "python",
      "version": "3.9.18"
    }
  },
  "nbformat": 4,
  "nbformat_minor": 0
}